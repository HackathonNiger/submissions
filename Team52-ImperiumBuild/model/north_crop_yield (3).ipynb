{
 "cells": [
  {
   "cell_type": "code",
   "execution_count": 1,
   "id": "535181fb",
   "metadata": {},
   "outputs": [],
   "source": [
    "import pandas as pd\n",
    "import numpy as np\n",
    "import random\n",
    "import json\n",
    "from sklearn.model_selection import train_test_split, cross_val_score\n",
    "from sklearn.preprocessing import LabelEncoder\n",
    "from sklearn.metrics import accuracy_score, balanced_accuracy_score, f1_score, classification_report, confusion_matrix\n",
    "import seaborn as sns\n",
    "import matplotlib.pyplot as plt\n",
    "from xgboost import XGBClassifier\n",
    "from imblearn.over_sampling import SMOTE\n",
    "\n",
    "np.random.seed(42)\n",
    "random.seed(42)"
   ]
  },
  {
   "cell_type": "code",
   "execution_count": 2,
   "id": "881ccfbe",
   "metadata": {},
   "outputs": [],
   "source": [
    "n_farms = 200\n",
    "years = list(range(2014, 2025))\n",
    "\n",
    "states = [\n",
    "    \"Adamawa\", \"Bauchi\", \"Benue\", \"Borno\", \"FCT\",\n",
    "    \"Gombe\", \"Jigawa\", \"Kaduna\", \"Kano\", \"Katsina\",\n",
    "    \"Kebbi\", \"Kogi\", \"Kwara\", \"Nasarawa\", \"Niger\",\n",
    "    \"Plateau\", \"Sokoto\", \"Taraba\", \"Yobe\", \"Zamfara\"\n",
    "]\n",
    "\n",
    "\n",
    "crops = [\"Sorghum\", \"Millet\", \"Maize\", \"Cowpea\", \"Groundnut\",\n",
    "        \"Guna melon\", \"Sesame\", \"Rice\", \"Wheat\", \"Cassava\",\n",
    "        \"Yam\", \"Sweet potato\", \"Okra\", \"Soybeans\", \"Cotton\"]\n",
    "\n",
    "anomaly_table = {\n",
    "    2014: {\"rain_pct\": -0.03, \"temp_delta\": +0.08},\n",
    "    2015: {\"rain_pct\": -0.12, \"temp_delta\": +0.20},\n",
    "    2016: {\"rain_pct\": +0.04, \"temp_delta\": -0.02},\n",
    "    2017: {\"rain_pct\": -0.07, \"temp_delta\": +0.10},\n",
    "    2018: {\"rain_pct\": +0.06, \"temp_delta\": -0.05},\n",
    "    2019: {\"rain_pct\": +0.02, \"temp_delta\": +0.02},\n",
    "    2020: {\"rain_pct\": -0.10, \"temp_delta\": +0.25},\n",
    "    2021: {\"rain_pct\": -0.05, \"temp_delta\": +0.12},\n",
    "    2022: {\"rain_pct\": +0.08, \"temp_delta\": -0.03},\n",
    "    2023: {\"rain_pct\": -0.06, \"temp_delta\": +0.05},\n",
    "    2024: {\"rain_pct\": +0.03, \"temp_delta\": +0.09},\n",
    "}"
   ]
  },
  {
   "cell_type": "code",
   "execution_count": 3,
   "id": "5f65d2ae",
   "metadata": {},
   "outputs": [],
   "source": [
    "sahel_states = {\"Sokoto\",\"Kebbi\",\"Katsina\",\"Zamfara\"}\n",
    "sudan_states = {\"Kano\",\"Jigawa\"}\n",
    "\n",
    "def sample_rainfall_base(state):\n",
    "    if state in sahel_states:\n",
    "        return np.random.normal(450, 120)\n",
    "    elif state in sudan_states:\n",
    "        return np.random.normal(800, 150)\n",
    "    else:\n",
    "        return np.random.normal(950, 150)\n",
    "\n",
    "def sample_temp_base(state):\n",
    "    return np.random.normal(28.0, 2.3)\n",
    "\n",
    "def sample_ndvi_mean_base():\n",
    "    return np.random.uniform(0.15, 0.6)\n",
    "\n",
    "def compute_ndvi_peak_from_mean(ndvi_mean_val):\n",
    "    peak = ndvi_mean_val + abs(np.random.normal(0.15, 0.07))\n",
    "    return min(peak, 0.95)\n",
    "\n",
    "def sample_soil_ph():\n",
    "    return np.random.uniform(4.8,7.5)\n",
    "\n",
    "def sample_soc_pct():\n",
    "    return np.random.uniform(0.5,2.5)\n",
    "\n",
    "def sample_fertilizer_rate():\n",
    "    if np.random.rand() < 0.45:\n",
    "        return np.random.uniform(0,10)\n",
    "    else:\n",
    "        return max(0.0, np.random.normal(25,12))\n",
    "\n",
    "def sample_pesticide_rate():\n",
    "    return max(0.0, np.random.normal(1.2,0.8))\n",
    "\n",
    "def sample_farm_size_ha():\n",
    "    return float(np.exp(np.random.normal(np.log(1.5),0.7)))\n",
    "\n",
    "def sample_irrigated_area(fs_ha):\n",
    "    if np.random.rand() < 0.08:\n",
    "        return np.random.uniform(0.05, 0.6*fs_ha)\n",
    "    else:\n",
    "        return 0.0\n",
    "\n",
    "def simulate_yield_for_crop(crop_name, ndvi_val, fert_rate):\n",
    "    base = {\n",
    "        'Sorghum': np.random.normal(1.2, 0.4),\n",
    "        'Millet': np.random.normal(0.9, 0.25),\n",
    "        'Maize': np.random.normal(1.8, 0.6),\n",
    "        'Cowpea': np.random.normal(0.7, 0.25),\n",
    "        'Groundnut': np.random.normal(1.0, 0.3),\n",
    "        'Guna melon': np.random.normal(1.5, 0.5),\n",
    "        'Sesame': np.random.normal(0.5, 0.2),\n",
    "        'Rice': np.random.normal(2.0, 0.6),\n",
    "        'Wheat': np.random.normal(1.5, 0.5),\n",
    "        'Cassava': np.random.normal(3.0, 1.0),\n",
    "        'Yam': np.random.normal(2.5, 0.8),\n",
    "        'Sweet potato': np.random.normal(2.2, 0.7),\n",
    "        'Okra': np.random.normal(1.2, 0.4),\n",
    "        'Soybeans': np.random.normal(1.1, 0.35),\n",
    "        'Cotton': np.random.normal(1.8, 0.6)\n",
    "    }[crop_name]\n",
    "    ndvi_factor = 1 + (ndvi_val - 0.3)\n",
    "    fert_factor = 1 + (min(fert_rate,100)/100)*0.25\n",
    "    y = base * ndvi_factor * fert_factor\n",
    "    y = max(0.1, y + np.random.normal(0,0.15))\n",
    "    return min(y, 8.0)\n",
    "\n",
    "def make_random_polygon_geojson():\n",
    "    lat = np.random.uniform(6.0,13.8)\n",
    "    lon = np.random.uniform(2.0,14.0)\n",
    "    delta = np.random.uniform(0.0005, 0.01)\n",
    "    coords = [\n",
    "        [round(lon-delta,6), round(lat-delta,6)],\n",
    "        [round(lon-delta,6), round(lat+delta,6)],\n",
    "        [round(lon+delta,6), round(lat+delta,6)],\n",
    "        [round(lon+delta,6), round(lat-delta,6)],\n",
    "        [round(lon-delta,6), round(lat-delta,6)],\n",
    "    ]\n",
    "    return json.dumps({'type':'Polygon','coordinates':[coords]})"
   ]
  },
  {
   "cell_type": "code",
   "execution_count": 4,
   "id": "ce474490",
   "metadata": {},
   "outputs": [
    {
     "data": {
      "text/plain": [
       "(200,\n",
       " {'farm_id': 'F00001',\n",
       "  'state': 'Borno',\n",
       "  'polygon_geojson': '{\"type\": \"Polygon\", \"coordinates\": [[[9.18192, 11.707571], [9.18192, 11.711535], [9.185884, 11.711535], [9.185884, 11.707571], [9.18192, 11.707571]]]}',\n",
       "  'farm_size_ha': 2.124,\n",
       "  'soil_ph': 5.22,\n",
       "  'soil_org_carbon_pct': 0.62})"
      ]
     },
     "execution_count": 4,
     "metadata": {},
     "output_type": "execute_result"
    }
   ],
   "source": [
    "farms = []\n",
    "for i in range(n_farms):\n",
    "    st = random.choice(states)\n",
    "    fs = sample_farm_size_ha()\n",
    "    farms.append({\n",
    "        'farm_id': f'F{i+1:05d}',\n",
    "        'state': st,\n",
    "        'polygon_geojson': make_random_polygon_geojson(),\n",
    "        'farm_size_ha': round(fs,3),\n",
    "        'soil_ph': round(sample_soil_ph(),2),\n",
    "        'soil_org_carbon_pct': round(sample_soc_pct(),2),\n",
    "    })\n",
    "\n",
    "len(farms), farms[0]"
   ]
  },
  {
   "cell_type": "code",
   "execution_count": 5,
   "id": "77655fe0",
   "metadata": {},
   "outputs": [
    {
     "data": {
      "text/plain": [
       "(2200, 34)"
      ]
     },
     "execution_count": 5,
     "metadata": {},
     "output_type": "execute_result"
    }
   ],
   "source": [
    "rows = []\n",
    "for farm in farms:\n",
    "    for yr in years:\n",
    "        rain_base = float(max(10.0, sample_rainfall_base(farm['state'])))\n",
    "        temp_base = float(sample_temp_base(farm['state']))\n",
    "        ndvi_base = float(sample_ndvi_mean_base())\n",
    "        ndvi_peak_val = float(compute_ndvi_peak_from_mean(ndvi_base))\n",
    "        fert_val = float(round(sample_fertilizer_rate(),1))\n",
    "        pest_val = float(round(sample_pesticide_rate(),2))\n",
    "        irrig_val = float(round(sample_irrigated_area(farm['farm_size_ha']),3))\n",
    "\n",
    "        ann = anomaly_table.get(yr, {'rain_pct':0.0, 'temp_delta':0.0})\n",
    "        rain_year = float(round(rain_base * (1.0 + ann['rain_pct']),1))\n",
    "        temp_year = float(round(temp_base + ann['temp_delta'],1))\n",
    "        ndvi_year = float(round(min(max(ndvi_base * (1.0 + ann['rain_pct']*0.4), 0.05),0.95),3))\n",
    "\n",
    "        yields_per_crop = {c: simulate_yield_for_crop(c, ndvi_year, fert_val) for c in crops}\n",
    "\n",
    "        best_crop = max(yields_per_crop, key=yields_per_crop.get)\n",
    "        best_yield = yields_per_crop[best_crop]\n",
    "\n",
    "        if rain_year < 400:\n",
    "            onset = f\"{yr}-07-{random.randint(1,28):02d}\"\n",
    "        elif rain_year < 800:\n",
    "            onset = f\"{yr}-06-{random.randint(10,30):02d}\"\n",
    "        else:\n",
    "            onset = f\"{yr}-05-{random.randint(20,30):02d}\"\n",
    "\n",
    "        plant_start = pd.to_datetime(onset) + pd.Timedelta(days=3)\n",
    "        plant_end = plant_start + pd.Timedelta(days=10)\n",
    "        ndvi_peak_date = pd.to_datetime(f\"{yr}-08-01\") + pd.Timedelta(days=int(np.random.normal(0,15)))\n",
    "        harvest_start = ndvi_peak_date - pd.Timedelta(days=14)\n",
    "        harvest_end = ndvi_peak_date + pd.Timedelta(days=7)\n",
    "\n",
    "        row = {\n",
    "            'farm_id': farm['farm_id'],\n",
    "            'state': farm['state'],\n",
    "            'polygon_geojson': farm['polygon_geojson'],\n",
    "            'year': yr,\n",
    "            'best_crop': best_crop,\n",
    "            'rainfall_total_mm': round(rain_year,1),\n",
    "            'rainfall_onset_date': onset,\n",
    "            'rainfall_anomaly_mm_pct': round(ann['rain_pct']*100,2),\n",
    "            'avg_temp_c': temp_year,\n",
    "            'ndvi_mean': ndvi_year,\n",
    "            'ndvi_peak': round(ndvi_peak_val,3),\n",
    "            'ndvi_peak_date': ndvi_peak_date.strftime('%Y-%m-%d'),\n",
    "            'soil_ph': farm['soil_ph'],\n",
    "            'soil_org_carbon_pct': farm['soil_org_carbon_pct'],\n",
    "            'fertilizer_rate_kg_per_ha': fert_val,\n",
    "            'pesticide_rate_l_per_ha': pest_val,\n",
    "            'farm_size_ha': farm['farm_size_ha'],\n",
    "            'irrigated_area_ha': irrig_val,\n",
    "            'yield_best_crop_t_per_ha': round(best_yield,3),\n",
    "        }\n",
    "        for c,v in yields_per_crop.items():\n",
    "            row[f'yield_{c}_t_per_ha'] = round(v,3)\n",
    "\n",
    "        rows.append(row)\n",
    "\n",
    "df = pd.DataFrame(rows)\n",
    "df.to_csv('northern_nigeria_data.csv', index=False)\n",
    "df.shape"
   ]
  },
  {
   "cell_type": "code",
   "execution_count": 6,
   "id": "4f98fca3",
   "metadata": {},
   "outputs": [
    {
     "data": {
      "application/vnd.microsoft.datawrangler.viewer.v0+json": {
       "columns": [
        {
         "name": "index",
         "rawType": "int64",
         "type": "integer"
        },
        {
         "name": "farm_id",
         "rawType": "object",
         "type": "string"
        },
        {
         "name": "state",
         "rawType": "object",
         "type": "string"
        },
        {
         "name": "polygon_geojson",
         "rawType": "object",
         "type": "string"
        },
        {
         "name": "year",
         "rawType": "int64",
         "type": "integer"
        },
        {
         "name": "best_crop",
         "rawType": "object",
         "type": "string"
        },
        {
         "name": "rainfall_total_mm",
         "rawType": "float64",
         "type": "float"
        },
        {
         "name": "rainfall_onset_date",
         "rawType": "object",
         "type": "string"
        },
        {
         "name": "rainfall_anomaly_mm_pct",
         "rawType": "float64",
         "type": "float"
        },
        {
         "name": "avg_temp_c",
         "rawType": "float64",
         "type": "float"
        },
        {
         "name": "ndvi_mean",
         "rawType": "float64",
         "type": "float"
        },
        {
         "name": "ndvi_peak",
         "rawType": "float64",
         "type": "float"
        },
        {
         "name": "ndvi_peak_date",
         "rawType": "object",
         "type": "string"
        },
        {
         "name": "soil_ph",
         "rawType": "float64",
         "type": "float"
        },
        {
         "name": "soil_org_carbon_pct",
         "rawType": "float64",
         "type": "float"
        },
        {
         "name": "fertilizer_rate_kg_per_ha",
         "rawType": "float64",
         "type": "float"
        },
        {
         "name": "pesticide_rate_l_per_ha",
         "rawType": "float64",
         "type": "float"
        },
        {
         "name": "farm_size_ha",
         "rawType": "float64",
         "type": "float"
        },
        {
         "name": "irrigated_area_ha",
         "rawType": "float64",
         "type": "float"
        },
        {
         "name": "yield_best_crop_t_per_ha",
         "rawType": "float64",
         "type": "float"
        },
        {
         "name": "yield_Sorghum_t_per_ha",
         "rawType": "float64",
         "type": "float"
        },
        {
         "name": "yield_Millet_t_per_ha",
         "rawType": "float64",
         "type": "float"
        },
        {
         "name": "yield_Maize_t_per_ha",
         "rawType": "float64",
         "type": "float"
        },
        {
         "name": "yield_Cowpea_t_per_ha",
         "rawType": "float64",
         "type": "float"
        },
        {
         "name": "yield_Groundnut_t_per_ha",
         "rawType": "float64",
         "type": "float"
        },
        {
         "name": "yield_Guna melon_t_per_ha",
         "rawType": "float64",
         "type": "float"
        },
        {
         "name": "yield_Sesame_t_per_ha",
         "rawType": "float64",
         "type": "float"
        },
        {
         "name": "yield_Rice_t_per_ha",
         "rawType": "float64",
         "type": "float"
        },
        {
         "name": "yield_Wheat_t_per_ha",
         "rawType": "float64",
         "type": "float"
        },
        {
         "name": "yield_Cassava_t_per_ha",
         "rawType": "float64",
         "type": "float"
        },
        {
         "name": "yield_Yam_t_per_ha",
         "rawType": "float64",
         "type": "float"
        },
        {
         "name": "yield_Sweet potato_t_per_ha",
         "rawType": "float64",
         "type": "float"
        },
        {
         "name": "yield_Okra_t_per_ha",
         "rawType": "float64",
         "type": "float"
        },
        {
         "name": "yield_Soybeans_t_per_ha",
         "rawType": "float64",
         "type": "float"
        },
        {
         "name": "yield_Cotton_t_per_ha",
         "rawType": "float64",
         "type": "float"
        }
       ],
       "ref": "ef00cf46-5f4a-4a66-9b99-1aa138b0df7f",
       "rows": [
        [
         "0",
         "F00001",
         "Borno",
         "{\"type\": \"Polygon\", \"coordinates\": [[[9.18192, 11.707571], [9.18192, 11.711535], [9.185884, 11.711535], [9.185884, 11.707571], [9.18192, 11.707571]]]}",
         "2014",
         "Cassava",
         "950.1",
         "2014-05-21",
         "-3.0",
         "29.7",
         "0.502",
         "0.586",
         "2014-07-11",
         "5.22",
         "0.62",
         "6.9",
         "1.16",
         "2.124",
         "0.0",
         "5.006",
         "1.44",
         "0.832",
         "2.274",
         "0.735",
         "0.537",
         "1.733",
         "0.727",
         "2.609",
         "2.544",
         "5.006",
         "3.66",
         "3.506",
         "1.476",
         "0.73",
         "1.586"
        ],
        [
         "1",
         "F00001",
         "Borno",
         "{\"type\": \"Polygon\", \"coordinates\": [[[9.18192, 11.707571], [9.18192, 11.711535], [9.185884, 11.711535], [9.185884, 11.707571], [9.18192, 11.707571]]]}",
         "2015",
         "Yam",
         "1066.9",
         "2015-05-30",
         "-12.0",
         "25.3",
         "0.477",
         "0.603",
         "2015-08-06",
         "5.22",
         "0.62",
         "8.2",
         "2.66",
         "2.124",
         "0.0",
         "4.805",
         "1.03",
         "0.875",
         "2.788",
         "0.64",
         "0.859",
         "1.905",
         "0.374",
         "2.103",
         "2.255",
         "3.295",
         "4.805",
         "3.432",
         "1.8",
         "1.627",
         "1.006"
        ],
        [
         "2",
         "F00001",
         "Borno",
         "{\"type\": \"Polygon\", \"coordinates\": [[[9.18192, 11.707571], [9.18192, 11.711535], [9.185884, 11.711535], [9.185884, 11.707571], [9.18192, 11.707571]]]}",
         "2016",
         "Cassava",
         "1189.2",
         "2016-05-20",
         "4.0",
         "29.5",
         "0.226",
         "0.354",
         "2016-08-10",
         "5.22",
         "0.62",
         "7.3",
         "1.18",
         "2.124",
         "0.0",
         "5.624",
         "1.116",
         "0.773",
         "3.085",
         "0.383",
         "1.249",
         "1.436",
         "0.407",
         "2.549",
         "1.281",
         "5.624",
         "1.935",
         "3.731",
         "0.837",
         "1.322",
         "1.969"
        ],
        [
         "3",
         "F00001",
         "Borno",
         "{\"type\": \"Polygon\", \"coordinates\": [[[9.18192, 11.707571], [9.18192, 11.711535], [9.185884, 11.711535], [9.185884, 11.707571], [9.18192, 11.707571]]]}",
         "2017",
         "Cotton",
         "1038.3",
         "2017-05-23",
         "-7.0",
         "29.0",
         "0.439",
         "0.585",
         "2017-08-30",
         "5.22",
         "0.62",
         "23.4",
         "0.42",
         "2.124",
         "0.0",
         "3.887",
         "1.457",
         "0.793",
         "1.674",
         "1.387",
         "1.536",
         "1.943",
         "0.407",
         "2.982",
         "1.824",
         "3.245",
         "1.989",
         "3.559",
         "1.146",
         "1.641",
         "3.887"
        ],
        [
         "4",
         "F00001",
         "Borno",
         "{\"type\": \"Polygon\", \"coordinates\": [[[9.18192, 11.707571], [9.18192, 11.711535], [9.185884, 11.711535], [9.185884, 11.707571], [9.18192, 11.707571]]]}",
         "2018",
         "Cassava",
         "968.6",
         "2018-05-21",
         "6.0",
         "30.1",
         "0.216",
         "0.438",
         "2018-08-06",
         "5.22",
         "0.62",
         "3.6",
         "0.7",
         "2.124",
         "0.0",
         "3.281",
         "1.182",
         "0.638",
         "1.316",
         "0.222",
         "0.905",
         "2.046",
         "0.382",
         "2.183",
         "1.411",
         "3.281",
         "1.917",
         "1.329",
         "1.183",
         "1.502",
         "1.274"
        ]
       ],
       "shape": {
        "columns": 34,
        "rows": 5
       }
      },
      "text/html": [
       "<div>\n",
       "<style scoped>\n",
       "    .dataframe tbody tr th:only-of-type {\n",
       "        vertical-align: middle;\n",
       "    }\n",
       "\n",
       "    .dataframe tbody tr th {\n",
       "        vertical-align: top;\n",
       "    }\n",
       "\n",
       "    .dataframe thead th {\n",
       "        text-align: right;\n",
       "    }\n",
       "</style>\n",
       "<table border=\"1\" class=\"dataframe\">\n",
       "  <thead>\n",
       "    <tr style=\"text-align: right;\">\n",
       "      <th></th>\n",
       "      <th>farm_id</th>\n",
       "      <th>state</th>\n",
       "      <th>polygon_geojson</th>\n",
       "      <th>year</th>\n",
       "      <th>best_crop</th>\n",
       "      <th>rainfall_total_mm</th>\n",
       "      <th>rainfall_onset_date</th>\n",
       "      <th>rainfall_anomaly_mm_pct</th>\n",
       "      <th>avg_temp_c</th>\n",
       "      <th>ndvi_mean</th>\n",
       "      <th>...</th>\n",
       "      <th>yield_Guna melon_t_per_ha</th>\n",
       "      <th>yield_Sesame_t_per_ha</th>\n",
       "      <th>yield_Rice_t_per_ha</th>\n",
       "      <th>yield_Wheat_t_per_ha</th>\n",
       "      <th>yield_Cassava_t_per_ha</th>\n",
       "      <th>yield_Yam_t_per_ha</th>\n",
       "      <th>yield_Sweet potato_t_per_ha</th>\n",
       "      <th>yield_Okra_t_per_ha</th>\n",
       "      <th>yield_Soybeans_t_per_ha</th>\n",
       "      <th>yield_Cotton_t_per_ha</th>\n",
       "    </tr>\n",
       "  </thead>\n",
       "  <tbody>\n",
       "    <tr>\n",
       "      <th>0</th>\n",
       "      <td>F00001</td>\n",
       "      <td>Borno</td>\n",
       "      <td>{\"type\": \"Polygon\", \"coordinates\": [[[9.18192,...</td>\n",
       "      <td>2014</td>\n",
       "      <td>Cassava</td>\n",
       "      <td>950.1</td>\n",
       "      <td>2014-05-21</td>\n",
       "      <td>-3.0</td>\n",
       "      <td>29.7</td>\n",
       "      <td>0.502</td>\n",
       "      <td>...</td>\n",
       "      <td>1.733</td>\n",
       "      <td>0.727</td>\n",
       "      <td>2.609</td>\n",
       "      <td>2.544</td>\n",
       "      <td>5.006</td>\n",
       "      <td>3.660</td>\n",
       "      <td>3.506</td>\n",
       "      <td>1.476</td>\n",
       "      <td>0.730</td>\n",
       "      <td>1.586</td>\n",
       "    </tr>\n",
       "    <tr>\n",
       "      <th>1</th>\n",
       "      <td>F00001</td>\n",
       "      <td>Borno</td>\n",
       "      <td>{\"type\": \"Polygon\", \"coordinates\": [[[9.18192,...</td>\n",
       "      <td>2015</td>\n",
       "      <td>Yam</td>\n",
       "      <td>1066.9</td>\n",
       "      <td>2015-05-30</td>\n",
       "      <td>-12.0</td>\n",
       "      <td>25.3</td>\n",
       "      <td>0.477</td>\n",
       "      <td>...</td>\n",
       "      <td>1.905</td>\n",
       "      <td>0.374</td>\n",
       "      <td>2.103</td>\n",
       "      <td>2.255</td>\n",
       "      <td>3.295</td>\n",
       "      <td>4.805</td>\n",
       "      <td>3.432</td>\n",
       "      <td>1.800</td>\n",
       "      <td>1.627</td>\n",
       "      <td>1.006</td>\n",
       "    </tr>\n",
       "    <tr>\n",
       "      <th>2</th>\n",
       "      <td>F00001</td>\n",
       "      <td>Borno</td>\n",
       "      <td>{\"type\": \"Polygon\", \"coordinates\": [[[9.18192,...</td>\n",
       "      <td>2016</td>\n",
       "      <td>Cassava</td>\n",
       "      <td>1189.2</td>\n",
       "      <td>2016-05-20</td>\n",
       "      <td>4.0</td>\n",
       "      <td>29.5</td>\n",
       "      <td>0.226</td>\n",
       "      <td>...</td>\n",
       "      <td>1.436</td>\n",
       "      <td>0.407</td>\n",
       "      <td>2.549</td>\n",
       "      <td>1.281</td>\n",
       "      <td>5.624</td>\n",
       "      <td>1.935</td>\n",
       "      <td>3.731</td>\n",
       "      <td>0.837</td>\n",
       "      <td>1.322</td>\n",
       "      <td>1.969</td>\n",
       "    </tr>\n",
       "    <tr>\n",
       "      <th>3</th>\n",
       "      <td>F00001</td>\n",
       "      <td>Borno</td>\n",
       "      <td>{\"type\": \"Polygon\", \"coordinates\": [[[9.18192,...</td>\n",
       "      <td>2017</td>\n",
       "      <td>Cotton</td>\n",
       "      <td>1038.3</td>\n",
       "      <td>2017-05-23</td>\n",
       "      <td>-7.0</td>\n",
       "      <td>29.0</td>\n",
       "      <td>0.439</td>\n",
       "      <td>...</td>\n",
       "      <td>1.943</td>\n",
       "      <td>0.407</td>\n",
       "      <td>2.982</td>\n",
       "      <td>1.824</td>\n",
       "      <td>3.245</td>\n",
       "      <td>1.989</td>\n",
       "      <td>3.559</td>\n",
       "      <td>1.146</td>\n",
       "      <td>1.641</td>\n",
       "      <td>3.887</td>\n",
       "    </tr>\n",
       "    <tr>\n",
       "      <th>4</th>\n",
       "      <td>F00001</td>\n",
       "      <td>Borno</td>\n",
       "      <td>{\"type\": \"Polygon\", \"coordinates\": [[[9.18192,...</td>\n",
       "      <td>2018</td>\n",
       "      <td>Cassava</td>\n",
       "      <td>968.6</td>\n",
       "      <td>2018-05-21</td>\n",
       "      <td>6.0</td>\n",
       "      <td>30.1</td>\n",
       "      <td>0.216</td>\n",
       "      <td>...</td>\n",
       "      <td>2.046</td>\n",
       "      <td>0.382</td>\n",
       "      <td>2.183</td>\n",
       "      <td>1.411</td>\n",
       "      <td>3.281</td>\n",
       "      <td>1.917</td>\n",
       "      <td>1.329</td>\n",
       "      <td>1.183</td>\n",
       "      <td>1.502</td>\n",
       "      <td>1.274</td>\n",
       "    </tr>\n",
       "  </tbody>\n",
       "</table>\n",
       "<p>5 rows × 34 columns</p>\n",
       "</div>"
      ],
      "text/plain": [
       "  farm_id  state                                    polygon_geojson  year  \\\n",
       "0  F00001  Borno  {\"type\": \"Polygon\", \"coordinates\": [[[9.18192,...  2014   \n",
       "1  F00001  Borno  {\"type\": \"Polygon\", \"coordinates\": [[[9.18192,...  2015   \n",
       "2  F00001  Borno  {\"type\": \"Polygon\", \"coordinates\": [[[9.18192,...  2016   \n",
       "3  F00001  Borno  {\"type\": \"Polygon\", \"coordinates\": [[[9.18192,...  2017   \n",
       "4  F00001  Borno  {\"type\": \"Polygon\", \"coordinates\": [[[9.18192,...  2018   \n",
       "\n",
       "  best_crop  rainfall_total_mm rainfall_onset_date  rainfall_anomaly_mm_pct  \\\n",
       "0   Cassava              950.1          2014-05-21                     -3.0   \n",
       "1       Yam             1066.9          2015-05-30                    -12.0   \n",
       "2   Cassava             1189.2          2016-05-20                      4.0   \n",
       "3    Cotton             1038.3          2017-05-23                     -7.0   \n",
       "4   Cassava              968.6          2018-05-21                      6.0   \n",
       "\n",
       "   avg_temp_c  ndvi_mean  ...  yield_Guna melon_t_per_ha  \\\n",
       "0        29.7      0.502  ...                      1.733   \n",
       "1        25.3      0.477  ...                      1.905   \n",
       "2        29.5      0.226  ...                      1.436   \n",
       "3        29.0      0.439  ...                      1.943   \n",
       "4        30.1      0.216  ...                      2.046   \n",
       "\n",
       "  yield_Sesame_t_per_ha  yield_Rice_t_per_ha  yield_Wheat_t_per_ha  \\\n",
       "0                 0.727                2.609                 2.544   \n",
       "1                 0.374                2.103                 2.255   \n",
       "2                 0.407                2.549                 1.281   \n",
       "3                 0.407                2.982                 1.824   \n",
       "4                 0.382                2.183                 1.411   \n",
       "\n",
       "   yield_Cassava_t_per_ha  yield_Yam_t_per_ha  yield_Sweet potato_t_per_ha  \\\n",
       "0                   5.006               3.660                        3.506   \n",
       "1                   3.295               4.805                        3.432   \n",
       "2                   5.624               1.935                        3.731   \n",
       "3                   3.245               1.989                        3.559   \n",
       "4                   3.281               1.917                        1.329   \n",
       "\n",
       "   yield_Okra_t_per_ha  yield_Soybeans_t_per_ha  yield_Cotton_t_per_ha  \n",
       "0                1.476                    0.730                  1.586  \n",
       "1                1.800                    1.627                  1.006  \n",
       "2                0.837                    1.322                  1.969  \n",
       "3                1.146                    1.641                  3.887  \n",
       "4                1.183                    1.502                  1.274  \n",
       "\n",
       "[5 rows x 34 columns]"
      ]
     },
     "execution_count": 6,
     "metadata": {},
     "output_type": "execute_result"
    }
   ],
   "source": [
    "df = pd.read_csv('northern_nigeria_data.csv')\n",
    "df.head()"
   ]
  },
  {
   "cell_type": "code",
   "execution_count": 7,
   "id": "41bd9653",
   "metadata": {},
   "outputs": [],
   "source": [
    "cols_to_drop = [\n",
    "    'polygon_geojson', 'rainfall_onset_date', \n",
    "    'rainfall_anomaly_mm_pct', 'ndvi_peak_date', 'yield_best_crop_t_per_ha'\n",
    "]\n",
    "df = df.drop(columns=cols_to_drop, errors='ignore')"
   ]
  },
  {
   "cell_type": "code",
   "execution_count": 8,
   "id": "52cc3927",
   "metadata": {},
   "outputs": [],
   "source": [
    "final_cols = [\n",
    "    'state', 'year', 'best_crop', 'rainfall_total_mm', 'avg_temp_c', 'ndvi_peak',\n",
    "    'soil_ph', 'soil_org_carbon_pct', 'fertilizer_rate_kg_per_ha',\n",
    "    'pesticide_rate_l_per_ha', 'farm_size_ha', 'irrigated_area_ha', \n",
    "]\n",
    "df = df[final_cols]"
   ]
  },
  {
   "cell_type": "code",
   "execution_count": 9,
   "id": "65ec5f97",
   "metadata": {},
   "outputs": [
    {
     "data": {
      "application/vnd.microsoft.datawrangler.viewer.v0+json": {
       "columns": [
        {
         "name": "index",
         "rawType": "int64",
         "type": "integer"
        },
        {
         "name": "state",
         "rawType": "object",
         "type": "string"
        },
        {
         "name": "year",
         "rawType": "int64",
         "type": "integer"
        },
        {
         "name": "best_crop",
         "rawType": "object",
         "type": "string"
        },
        {
         "name": "rainfall_total_mm",
         "rawType": "float64",
         "type": "float"
        },
        {
         "name": "avg_temp_c",
         "rawType": "float64",
         "type": "float"
        },
        {
         "name": "ndvi_peak",
         "rawType": "float64",
         "type": "float"
        },
        {
         "name": "soil_ph",
         "rawType": "float64",
         "type": "float"
        },
        {
         "name": "soil_org_carbon_pct",
         "rawType": "float64",
         "type": "float"
        },
        {
         "name": "fertilizer_rate_kg_per_ha",
         "rawType": "object",
         "type": "string"
        },
        {
         "name": "pesticide_rate_l_per_ha",
         "rawType": "object",
         "type": "string"
        },
        {
         "name": "farm_size_ha",
         "rawType": "float64",
         "type": "float"
        },
        {
         "name": "irrigated_area_ha",
         "rawType": "float64",
         "type": "float"
        }
       ],
       "ref": "6e95b4da-577c-4442-999a-a2964bf43bfa",
       "rows": [
        [
         "0",
         "Borno",
         "2014",
         "Cassava",
         "950.1",
         "29.7",
         "0.586",
         "5.22",
         "0.62",
         "Rarely",
         "Sometimes",
         "2.124",
         "0.0"
        ],
        [
         "1",
         "Borno",
         "2015",
         "Yam",
         "1066.9",
         "25.3",
         "0.603",
         "5.22",
         "0.62",
         "Rarely",
         "Often",
         "2.124",
         "0.0"
        ],
        [
         "2",
         "Borno",
         "2016",
         "Cassava",
         "1189.2",
         "29.5",
         "0.354",
         "5.22",
         "0.62",
         "Rarely",
         "Sometimes",
         "2.124",
         "0.0"
        ],
        [
         "3",
         "Borno",
         "2017",
         "Cotton",
         "1038.3",
         "29.0",
         "0.585",
         "5.22",
         "0.62",
         "Sometimes",
         "Rarely",
         "2.124",
         "0.0"
        ],
        [
         "4",
         "Borno",
         "2018",
         "Cassava",
         "968.6",
         "30.1",
         "0.438",
         "5.22",
         "0.62",
         "Rarely",
         "Rarely",
         "2.124",
         "0.0"
        ]
       ],
       "shape": {
        "columns": 12,
        "rows": 5
       }
      },
      "text/html": [
       "<div>\n",
       "<style scoped>\n",
       "    .dataframe tbody tr th:only-of-type {\n",
       "        vertical-align: middle;\n",
       "    }\n",
       "\n",
       "    .dataframe tbody tr th {\n",
       "        vertical-align: top;\n",
       "    }\n",
       "\n",
       "    .dataframe thead th {\n",
       "        text-align: right;\n",
       "    }\n",
       "</style>\n",
       "<table border=\"1\" class=\"dataframe\">\n",
       "  <thead>\n",
       "    <tr style=\"text-align: right;\">\n",
       "      <th></th>\n",
       "      <th>state</th>\n",
       "      <th>year</th>\n",
       "      <th>best_crop</th>\n",
       "      <th>rainfall_total_mm</th>\n",
       "      <th>avg_temp_c</th>\n",
       "      <th>ndvi_peak</th>\n",
       "      <th>soil_ph</th>\n",
       "      <th>soil_org_carbon_pct</th>\n",
       "      <th>fertilizer_rate_kg_per_ha</th>\n",
       "      <th>pesticide_rate_l_per_ha</th>\n",
       "      <th>farm_size_ha</th>\n",
       "      <th>irrigated_area_ha</th>\n",
       "    </tr>\n",
       "  </thead>\n",
       "  <tbody>\n",
       "    <tr>\n",
       "      <th>0</th>\n",
       "      <td>Borno</td>\n",
       "      <td>2014</td>\n",
       "      <td>Cassava</td>\n",
       "      <td>950.1</td>\n",
       "      <td>29.7</td>\n",
       "      <td>0.586</td>\n",
       "      <td>5.22</td>\n",
       "      <td>0.62</td>\n",
       "      <td>Rarely</td>\n",
       "      <td>Sometimes</td>\n",
       "      <td>2.124</td>\n",
       "      <td>0.0</td>\n",
       "    </tr>\n",
       "    <tr>\n",
       "      <th>1</th>\n",
       "      <td>Borno</td>\n",
       "      <td>2015</td>\n",
       "      <td>Yam</td>\n",
       "      <td>1066.9</td>\n",
       "      <td>25.3</td>\n",
       "      <td>0.603</td>\n",
       "      <td>5.22</td>\n",
       "      <td>0.62</td>\n",
       "      <td>Rarely</td>\n",
       "      <td>Often</td>\n",
       "      <td>2.124</td>\n",
       "      <td>0.0</td>\n",
       "    </tr>\n",
       "    <tr>\n",
       "      <th>2</th>\n",
       "      <td>Borno</td>\n",
       "      <td>2016</td>\n",
       "      <td>Cassava</td>\n",
       "      <td>1189.2</td>\n",
       "      <td>29.5</td>\n",
       "      <td>0.354</td>\n",
       "      <td>5.22</td>\n",
       "      <td>0.62</td>\n",
       "      <td>Rarely</td>\n",
       "      <td>Sometimes</td>\n",
       "      <td>2.124</td>\n",
       "      <td>0.0</td>\n",
       "    </tr>\n",
       "    <tr>\n",
       "      <th>3</th>\n",
       "      <td>Borno</td>\n",
       "      <td>2017</td>\n",
       "      <td>Cotton</td>\n",
       "      <td>1038.3</td>\n",
       "      <td>29.0</td>\n",
       "      <td>0.585</td>\n",
       "      <td>5.22</td>\n",
       "      <td>0.62</td>\n",
       "      <td>Sometimes</td>\n",
       "      <td>Rarely</td>\n",
       "      <td>2.124</td>\n",
       "      <td>0.0</td>\n",
       "    </tr>\n",
       "    <tr>\n",
       "      <th>4</th>\n",
       "      <td>Borno</td>\n",
       "      <td>2018</td>\n",
       "      <td>Cassava</td>\n",
       "      <td>968.6</td>\n",
       "      <td>30.1</td>\n",
       "      <td>0.438</td>\n",
       "      <td>5.22</td>\n",
       "      <td>0.62</td>\n",
       "      <td>Rarely</td>\n",
       "      <td>Rarely</td>\n",
       "      <td>2.124</td>\n",
       "      <td>0.0</td>\n",
       "    </tr>\n",
       "  </tbody>\n",
       "</table>\n",
       "</div>"
      ],
      "text/plain": [
       "   state  year best_crop  rainfall_total_mm  avg_temp_c  ndvi_peak  soil_ph  \\\n",
       "0  Borno  2014   Cassava              950.1        29.7      0.586     5.22   \n",
       "1  Borno  2015       Yam             1066.9        25.3      0.603     5.22   \n",
       "2  Borno  2016   Cassava             1189.2        29.5      0.354     5.22   \n",
       "3  Borno  2017    Cotton             1038.3        29.0      0.585     5.22   \n",
       "4  Borno  2018   Cassava              968.6        30.1      0.438     5.22   \n",
       "\n",
       "   soil_org_carbon_pct fertilizer_rate_kg_per_ha pesticide_rate_l_per_ha  \\\n",
       "0                 0.62                    Rarely               Sometimes   \n",
       "1                 0.62                    Rarely                   Often   \n",
       "2                 0.62                    Rarely               Sometimes   \n",
       "3                 0.62                 Sometimes                  Rarely   \n",
       "4                 0.62                    Rarely                  Rarely   \n",
       "\n",
       "   farm_size_ha  irrigated_area_ha  \n",
       "0         2.124                0.0  \n",
       "1         2.124                0.0  \n",
       "2         2.124                0.0  \n",
       "3         2.124                0.0  \n",
       "4         2.124                0.0  "
      ]
     },
     "execution_count": 9,
     "metadata": {},
     "output_type": "execute_result"
    }
   ],
   "source": [
    "def map_usage_pest(x):\n",
    "    if pd.isna(x) or x == 0:\n",
    "        return 'None'\n",
    "    elif x <= 1:\n",
    "        return 'Rarely'\n",
    "    elif x <= 2:\n",
    "        return 'Sometimes'\n",
    "    elif x <= 3:\n",
    "        return 'Often'\n",
    "    else:\n",
    "        return 'Always'\n",
    "\n",
    "df['pesticide_rate_l_per_ha'] = df['pesticide_rate_l_per_ha'].apply(map_usage_pest)\n",
    "\n",
    "def map_usage_fert(x):\n",
    "    if pd.isna(x) or x == 0:\n",
    "        return 'None'\n",
    "    elif x <= 15:\n",
    "        return 'Rarely'\n",
    "    elif x <= 30:\n",
    "        return 'Sometimes'\n",
    "    elif x <= 45:\n",
    "        return 'Often'\n",
    "    else:\n",
    "        return 'Always'\n",
    "\n",
    "df['fertilizer_rate_kg_per_ha'] = df['fertilizer_rate_kg_per_ha'].apply(map_usage_fert)\n",
    "\n",
    "df.head()"
   ]
  },
  {
   "cell_type": "code",
   "execution_count": 10,
   "id": "96081e14",
   "metadata": {},
   "outputs": [],
   "source": [
    "# rare_crops = ['Wheat', 'Guna melon', 'Okra', 'Soybeans']\n",
    "# df['best_crop'] = df['best_crop'].replace(rare_crops, 'Other')"
   ]
  },
  {
   "cell_type": "code",
   "execution_count": 11,
   "id": "342798a6",
   "metadata": {},
   "outputs": [],
   "source": [
    "def encode_categorical(df, target_col=None):\n",
    "    df = df.copy()\n",
    "    \n",
    "    encoders = {}\n",
    "    \n",
    "    y = None\n",
    "    if target_col is not None:\n",
    "        y = df[target_col]\n",
    "        df = df.drop(columns=[target_col])\n",
    "    \n",
    "    cat_cols = df.select_dtypes(include=['object', 'category']).columns\n",
    "    \n",
    "    for col in cat_cols:\n",
    "        le = LabelEncoder()\n",
    "        df[col] = le.fit_transform(df[col].astype(str))\n",
    "        encoders[col] = le\n",
    "    \n",
    "    if y is not None:\n",
    "        le_target = LabelEncoder()\n",
    "        y = le_target.fit_transform(y.astype(str))\n",
    "        encoders[target_col] = le_target\n",
    "    \n",
    "    return df, y, encoders\n"
   ]
  },
  {
   "cell_type": "code",
   "execution_count": 12,
   "id": "5d32f827",
   "metadata": {},
   "outputs": [],
   "source": [
    "X, y, encoders = encode_categorical(df, target_col='best_crop')"
   ]
  },
  {
   "cell_type": "code",
   "execution_count": 13,
   "id": "6df0aeb4",
   "metadata": {},
   "outputs": [
    {
     "name": "stdout",
     "output_type": "stream",
     "text": [
      "Encoded features shape: (2200, 11)\n"
     ]
    }
   ],
   "source": [
    "print(\"Encoded features shape:\", X.shape)"
   ]
  },
  {
   "cell_type": "code",
   "execution_count": 14,
   "id": "1ae3f266",
   "metadata": {},
   "outputs": [
    {
     "data": {
      "text/plain": [
       "['state',\n",
       " 'year',\n",
       " 'rainfall_total_mm',\n",
       " 'avg_temp_c',\n",
       " 'ndvi_peak',\n",
       " 'soil_ph',\n",
       " 'soil_org_carbon_pct',\n",
       " 'fertilizer_rate_kg_per_ha',\n",
       " 'pesticide_rate_l_per_ha',\n",
       " 'farm_size_ha',\n",
       " 'irrigated_area_ha']"
      ]
     },
     "execution_count": 14,
     "metadata": {},
     "output_type": "execute_result"
    }
   ],
   "source": [
    "X.columns.to_list()"
   ]
  },
  {
   "cell_type": "code",
   "execution_count": 15,
   "id": "ff4df1df",
   "metadata": {},
   "outputs": [
    {
     "name": "stdout",
     "output_type": "stream",
     "text": [
      "Counter({np.int64(0): 1161, np.int64(9): 512, np.int64(7): 260, np.int64(5): 110, np.int64(3): 66, np.int64(1): 61, np.int64(8): 15, np.int64(2): 12, np.int64(4): 2, np.int64(6): 1})\n"
     ]
    }
   ],
   "source": [
    "from collections import Counter\n",
    "print(Counter(y))"
   ]
  },
  {
   "cell_type": "code",
   "execution_count": 16,
   "id": "abd1ffb5",
   "metadata": {},
   "outputs": [
    {
     "name": "stdout",
     "output_type": "stream",
     "text": [
      "Remaining class distribution: Counter({0: 1161, 9: 512, 7: 260, 5: 110, 3: 66, 1: 61, 8: 15, 2: 12})\n"
     ]
    }
   ],
   "source": [
    "valid_classes = [cls for cls, count in Counter(y).items() if count >= 4]\n",
    "\n",
    "y = pd.Series(y)\n",
    "mask = y.isin(valid_classes)\n",
    "\n",
    "X_filtered, y_filtered = X[mask], y[mask]\n",
    "\n",
    "print(\"Remaining class distribution:\", Counter(y_filtered))"
   ]
  },
  {
   "cell_type": "code",
   "execution_count": 17,
   "id": "ddacf7e7",
   "metadata": {},
   "outputs": [],
   "source": [
    "le = LabelEncoder()\n",
    "y_encoded = le.fit_transform(y_filtered)\n",
    "\n",
    "smote = SMOTE(random_state=42, k_neighbors=3)\n",
    "X_res, y_res = smote.fit_resample(X_filtered, y_encoded)\n",
    "\n",
    "X_train, X_test, y_train, y_test = train_test_split(\n",
    "    X_res, y_res, test_size=0.2, stratify=y_res, random_state=42\n",
    ")\n",
    "\n",
    "X_train.columns = [col.replace('[', '_').replace(']', '_').replace('<', '_').replace('>', '_') for col in X_train.columns]\n",
    "X_test.columns = [col.replace('[', '_').replace(']', '_').replace('<', '_').replace('>', '_') for col in X_test.columns]"
   ]
  },
  {
   "cell_type": "code",
   "execution_count": 18,
   "id": "0f48ff25",
   "metadata": {},
   "outputs": [
    {
     "name": "stderr",
     "output_type": "stream",
     "text": [
      "c:\\Users\\Jane Imoke\\AppData\\Local\\Programs\\Python\\Python311\\Lib\\site-packages\\xgboost\\training.py:183: UserWarning: [17:01:51] WARNING: C:\\actions-runner\\_work\\xgboost\\xgboost\\src\\learner.cc:738: \n",
      "Parameters: { \"use_label_encoder\" } are not used.\n",
      "\n",
      "  bst.update(dtrain, iteration=i, fobj=obj)\n"
     ]
    }
   ],
   "source": [
    "xgb = XGBClassifier(\n",
    "    n_estimators=400,\n",
    "    max_depth=10,\n",
    "    learning_rate=0.05,\n",
    "    subsample=0.8,\n",
    "    colsample_bytree=0.8,\n",
    "    eval_metric='mlogloss',\n",
    "    use_label_encoder=False,\n",
    "    random_state=42\n",
    ")\n",
    "\n",
    "xgb.fit(X_train, y_train)\n",
    "y_pred = xgb.predict(X_test)"
   ]
  },
  {
   "cell_type": "code",
   "execution_count": 19,
   "id": "22f34924",
   "metadata": {},
   "outputs": [
    {
     "name": "stdout",
     "output_type": "stream",
     "text": [
      "Accuracy: 0.888\n",
      "Balanced Accuracy: 0.888\n",
      "Macro F1: 0.886\n",
      "\n",
      "Classification Report:\n",
      "               precision    recall  f1-score   support\n",
      "\n",
      "     Cassava       0.71      0.65      0.68       232\n",
      "      Cotton       0.95      0.97      0.96       232\n",
      "  Guna melon       0.99      0.99      0.99       232\n",
      "       Maize       0.98      0.99      0.99       233\n",
      "        Okra       0.89      0.93      0.91       232\n",
      "        Rice       0.85      0.85      0.85       232\n",
      "    Soybeans       0.98      1.00      0.99       233\n",
      "Sweet potato       0.74      0.72      0.73       232\n",
      "\n",
      "    accuracy                           0.89      1858\n",
      "   macro avg       0.88      0.89      0.89      1858\n",
      "weighted avg       0.88      0.89      0.89      1858\n",
      "\n"
     ]
    }
   ],
   "source": [
    "print(\"Accuracy:\", round(accuracy_score(y_test, y_pred), 3))\n",
    "print(\"Balanced Accuracy:\", round(balanced_accuracy_score(y_test, y_pred), 3))\n",
    "print(\"Macro F1:\", round(f1_score(y_test, y_pred, average='macro'), 3))\n",
    "\n",
    "unique_classes = np.unique(y_test)\n",
    "class_names = [encoders['best_crop'].classes_[cls] for cls in unique_classes]\n",
    "print(\"\\nClassification Report:\\n\", classification_report(y_test, y_pred, labels=unique_classes, target_names=class_names))"
   ]
  },
  {
   "cell_type": "code",
   "execution_count": 20,
   "id": "e1b37eaf",
   "metadata": {},
   "outputs": [
    {
     "data": {
      "image/png": "[encoded data removed]",
      "text/plain": [
       "<Figure size 1000x700 with 2 Axes>"
      ]
     },
     "metadata": {},
     "output_type": "display_data"
    }
   ],
   "source": [
    "cm = confusion_matrix(y_test, y_pred)\n",
    "\n",
    "plt.figure(figsize=(10, 7))\n",
    "sns.heatmap(cm, annot=True, fmt='d',\n",
    "            xticklabels=encoders['best_crop'].classes_,\n",
    "            yticklabels=encoders['best_crop'].classes_,\n",
    "            cmap='YlGnBu')\n",
    "\n",
    "plt.xlabel('Predicted')\n",
    "plt.ylabel('Actual')\n",
    "plt.title('XGBoost - Confusion Matrix')\n",
    "plt.show()"
   ]
  },
  {
   "cell_type": "code",
   "execution_count": 21,
   "id": "512e0f83",
   "metadata": {},
   "outputs": [
    {
     "data": {
      "text/plain": [
       "['north_crop_yield_model.pkl']"
      ]
     },
     "execution_count": 21,
     "metadata": {},
     "output_type": "execute_result"
    }
   ],
   "source": [
    "import joblib\n",
    "\n",
    "joblib.dump(xgb, \"north_crop_yield_model.pkl\")"
   ]
  },
  {
   "cell_type": "code",
   "execution_count": null,
   "id": "51c71a61",
   "metadata": {},
   "outputs": [],
   "source": []
  }
 ],
 "metadata": {
  "kernelspec": {
   "display_name": "Python 3",
   "language": "python",
   "name": "python3"
  },
  "language_info": {
   "codemirror_mode": {
    "name": "ipython",
    "version": 3
   },
   "file_extension": ".py",
   "mimetype": "text/x-python",
   "name": "python",
   "nbconvert_exporter": "python",
   "pygments_lexer": "ipython3",
   "version": "3.11.5"
  }
 },
 "nbformat": 4,
 "nbformat_minor": 5
}
